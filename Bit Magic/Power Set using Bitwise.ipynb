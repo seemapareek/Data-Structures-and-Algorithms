{
 "cells": [
  {
   "cell_type": "markdown",
   "metadata": {},
   "source": [
    "### Power set using Bitwise operator<br>\n",
    "\n",
    "input = 'abc'<br>\n",
    "output = [' ', 'a', 'b', 'c', 'ab', 'bc', 'ac', 'abc']\n",
    "\n",
    "for n numbers => power set contains 2^n subsets\n",
    "\n",
    "Complexity = O(2^n. n)\n",
    "\n",
    "Logic = representing set elements as binary counters and printing the element whose corresponding bit is 1."
   ]
  },
  {
   "cell_type": "code",
   "execution_count": 11,
   "metadata": {},
   "outputs": [],
   "source": [
    "import numpy as np"
   ]
  },
  {
   "cell_type": "code",
   "execution_count": 12,
   "metadata": {},
   "outputs": [],
   "source": [
    "def printPowerSet(s):\n",
    "    n = len(s)\n",
    "    powsize = np.power(2,n)\n",
    "\n",
    "    for counter in range(powsize):\n",
    "        for j in range(n):\n",
    "            if (counter & (1 << j)) !=0:\n",
    "                print(s[j], end='')\n",
    "        print('')"
   ]
  },
  {
   "cell_type": "code",
   "execution_count": 13,
   "metadata": {},
   "outputs": [
    {
     "name": "stdout",
     "output_type": "stream",
     "text": [
      "\n",
      "a\n",
      "b\n",
      "ab\n",
      "c\n",
      "ac\n",
      "bc\n",
      "abc\n"
     ]
    }
   ],
   "source": [
    "s = \"abc\"\n",
    "printPowerSet(s)"
   ]
  },
  {
   "cell_type": "code",
   "execution_count": null,
   "metadata": {},
   "outputs": [],
   "source": []
  }
 ],
 "metadata": {
  "kernelspec": {
   "display_name": "Python 3",
   "language": "python",
   "name": "python3"
  },
  "language_info": {
   "codemirror_mode": {
    "name": "ipython",
    "version": 3
   },
   "file_extension": ".py",
   "mimetype": "text/x-python",
   "name": "python",
   "nbconvert_exporter": "python",
   "pygments_lexer": "ipython3",
   "version": "3.6.5"
  }
 },
 "nbformat": 4,
 "nbformat_minor": 2
}

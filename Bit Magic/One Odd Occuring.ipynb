{
 "cells": [
  {
   "cell_type": "markdown",
   "metadata": {},
   "source": [
    "### Find the only odd occuring number\n",
    "\n",
    "input: arr=[4,3,4,4,4,5,5]<br>\n",
    "output: 3\n",
    "\n",
    "input: arr=[8,7,7,8,8]<br>\n",
    "output: 8\n",
    "\n",
    "<br>\n",
    "Method 1: Naive (counting occurences of each number in array and printing if occurence count is odd) <br>\n",
    "          Complexity = O(n^2)\n",
    "          \n",
    "Method 2: Using XOR (Find xor of all the numbers in array. All the even number will cancel out only odd one will remain.) <br>\n",
    "          Complexity = O(n)\n",
    "          \n",
    "          \n",
    "XOR properties to remember <br>\n",
    "x^0 = x <br>\n",
    "x^x = 0 <br>\n",
    "x^y = y^x <br>\n",
    "x^(y^z) = (x^y)^z <br>"
   ]
  },
  {
   "cell_type": "code",
   "execution_count": 11,
   "metadata": {},
   "outputs": [],
   "source": [
    "def findOddNaive(arr):\n",
    "    res=[]\n",
    "    for i in arr:\n",
    "        count=0\n",
    "        for j in arr:\n",
    "            if i==j:\n",
    "                count=count+1\n",
    "        if count%2 !=0:\n",
    "            res.append(i)\n",
    "    return res"
   ]
  },
  {
   "cell_type": "code",
   "execution_count": 12,
   "metadata": {},
   "outputs": [],
   "source": [
    "def findOdd(arr):\n",
    "    res=0\n",
    "    for i in arr:\n",
    "        res = res^i\n",
    "    return res    "
   ]
  },
  {
   "cell_type": "code",
   "execution_count": 13,
   "metadata": {},
   "outputs": [
    {
     "name": "stdout",
     "output_type": "stream",
     "text": [
      "input: [4, 3, 4, 4, 4, 5, 5]\n",
      "output (Naive): [3]\n",
      "output (Using XOR): 3\n"
     ]
    }
   ],
   "source": [
    "arr=[4,3,4,4,4,5,5]\n",
    "print(\"input:\", arr)\n",
    "print(\"output (Naive):\", findOddNaive(arr))\n",
    "print(\"output (Using XOR):\", findOdd(arr))\n"
   ]
  },
  {
   "cell_type": "markdown",
   "metadata": {},
   "source": [
    "#### Variation\n",
    "\n",
    "Given an array of n numbers that has values in range[1:n+1]. Every number appears exactly once. Hence, one number is missing. Find the missing number.\n",
    "\n",
    "input: arr=[1,4,3] <br>\n",
    "output: 2\n",
    "\n",
    "input: arr =[1, 5, 3, 2] <br>\n",
    "output: 4\n",
    "\n",
    "Idea: (Calculate xor of all the numbers in array) xor (calculate xor of all numbers from [1:n+1])"
   ]
  },
  {
   "cell_type": "code",
   "execution_count": 30,
   "metadata": {},
   "outputs": [],
   "source": [
    "def findMissing(arr):\n",
    "    res1=0; res2=0;\n",
    "    for i in arr:\n",
    "        res1 = res1^i\n",
    "\n",
    "    for i in range(1, len(arr)+2):\n",
    "        res2 = res2^i\n",
    "\n",
    "    res = res1^res2\n",
    "    return res"
   ]
  },
  {
   "cell_type": "code",
   "execution_count": 31,
   "metadata": {},
   "outputs": [
    {
     "name": "stdout",
     "output_type": "stream",
     "text": [
      "input: [1, 4, 3]\n",
      "output (Missing item): 2\n"
     ]
    }
   ],
   "source": [
    "arr=[1,4,3]\n",
    "print(\"input:\", arr)\n",
    "print(\"output (Missing item):\", findMissing(arr))"
   ]
  },
  {
   "cell_type": "code",
   "execution_count": null,
   "metadata": {},
   "outputs": [],
   "source": []
  }
 ],
 "metadata": {
  "kernelspec": {
   "display_name": "Python 3",
   "language": "python",
   "name": "python3"
  },
  "language_info": {
   "codemirror_mode": {
    "name": "ipython",
    "version": 3
   },
   "file_extension": ".py",
   "mimetype": "text/x-python",
   "name": "python",
   "nbconvert_exporter": "python",
   "pygments_lexer": "ipython3",
   "version": "3.6.5"
  }
 },
 "nbformat": 4,
 "nbformat_minor": 2
}

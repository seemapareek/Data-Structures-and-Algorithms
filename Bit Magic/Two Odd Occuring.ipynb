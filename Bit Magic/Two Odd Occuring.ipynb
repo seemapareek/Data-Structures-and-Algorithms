{
 "cells": [
  {
   "cell_type": "markdown",
   "metadata": {},
   "source": [
    "#### Find two odd occuring number\n",
    "\n",
    "input: arr = [3,4,3,4,5,4,4,6,7,7] <br>\n",
    "output: 5,6 <br>\n",
    "input: arr = [20,15,20,16] <br>\n",
    "output: 15,16 \n",
    "\n",
    "Method 1: Naive (counting occurences of each number in array and printing if occurence count is odd) <br>\n",
    "          This method doesn't make use of the fact that there are exactly two odd occuring number. <br>\n",
    "          Complexity = O(n^2)\n",
    "\n",
    "Method 2: Using Xor <br>\n",
    "          Complexity O(n)\n",
    "          "
   ]
  },
  {
   "cell_type": "code",
   "execution_count": 6,
   "metadata": {},
   "outputs": [],
   "source": [
    "def oddOccuring(arr):\n",
    "    xor=0; res1=0; res2=0;\n",
    "    for i in arr:\n",
    "        xor = xor^i\n",
    "    sn = xor & (~(xor-1))  #Rightmost set bit\n",
    "    for i in arr:\n",
    "        if (sn & i)!=0:    #Dividing in two groups based on rightmost set bit\n",
    "            res1 = res1^i\n",
    "        else:\n",
    "            res2 = res2^i\n",
    "    print(res1, res2)"
   ]
  },
  {
   "cell_type": "code",
   "execution_count": 5,
   "metadata": {},
   "outputs": [
    {
     "name": "stdout",
     "output_type": "stream",
     "text": [
      "input: [3, 4, 3, 4, 8, 4, 4, 32, 7, 7]\n",
      "output (Two odd occuring numbers are):\n",
      "8 32\n"
     ]
    }
   ],
   "source": [
    "arr = [3,4,3,4,8,4,4,32,7,7]\n",
    "print(\"input:\", arr)\n",
    "print(\"output (Two odd occuring numbers are):\")\n",
    "oddOccuring(arr)"
   ]
  },
  {
   "cell_type": "code",
   "execution_count": null,
   "metadata": {},
   "outputs": [],
   "source": []
  }
 ],
 "metadata": {
  "kernelspec": {
   "display_name": "Python 3",
   "language": "python",
   "name": "python3"
  },
  "language_info": {
   "codemirror_mode": {
    "name": "ipython",
    "version": 3
   },
   "file_extension": ".py",
   "mimetype": "text/x-python",
   "name": "python",
   "nbconvert_exporter": "python",
   "pygments_lexer": "ipython3",
   "version": "3.6.5"
  }
 },
 "nbformat": 4,
 "nbformat_minor": 2
}

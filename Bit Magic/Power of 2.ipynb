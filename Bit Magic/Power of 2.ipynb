{
 "cells": [
  {
   "cell_type": "markdown",
   "metadata": {},
   "source": [
    "#### Check if a given number n is power of 2\n",
    "If input number n is power of 2 then output = True else false\n",
    "\n",
    "input: n=4 <br>\n",
    "output: True\n",
    "\n",
    "input n=6 <br>\n",
    "output: False\n",
    "\n",
    "Method 1: Naive => Keep on dividing the number by 2 till 1, if 1 then the given number is power of 2 else if it  becomes odd then its not power of 2.<br>\n",
    "Complexity : O(n)\n",
    "\n",
    "Method 2: If a number is power of 2, it will have only one set bit => n&(n-1)=0 <br>\n",
    "Complexity : O(1)"
   ]
  },
  {
   "cell_type": "code",
   "execution_count": 3,
   "metadata": {},
   "outputs": [],
   "source": [
    "def isPower2(n):\n",
    "    return ((n!=0) and (n & (n-1) == 0))"
   ]
  },
  {
   "cell_type": "code",
   "execution_count": 9,
   "metadata": {},
   "outputs": [
    {
     "name": "stdout",
     "output_type": "stream",
     "text": [
      "32 is power of 2\n"
     ]
    }
   ],
   "source": [
    "n=32\n",
    "if isPower2(n):\n",
    "    print(n, \"is power of 2\")\n",
    "else:\n",
    "    print(n, \"is not a power of 2\")"
   ]
  }
 ],
 "metadata": {
  "kernelspec": {
   "display_name": "Python 3",
   "language": "python",
   "name": "python3"
  },
  "language_info": {
   "codemirror_mode": {
    "name": "ipython",
    "version": 3
   },
   "file_extension": ".py",
   "mimetype": "text/x-python",
   "name": "python",
   "nbconvert_exporter": "python",
   "pygments_lexer": "ipython3",
   "version": "3.6.5"
  }
 },
 "nbformat": 4,
 "nbformat_minor": 2
}
